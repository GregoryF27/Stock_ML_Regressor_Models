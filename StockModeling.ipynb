{
 "cells": [
  {
   "cell_type": "code",
   "execution_count": 24,
   "metadata": {},
   "outputs": [],
   "source": [
    "# all necessary imports here\n",
    "import pandas as pd\n",
    "#sklearn stuff\n",
    "from sklearn.model_selection import GridSearchCV, RandomizedSearchCV\n",
    "import numpy as np\n",
    "import xgboost as xgb\n",
    "import matplotlib.pyplot as plt\n",
    "from datetime import datetime as dt"
   ]
  },
  {
   "cell_type": "code",
   "execution_count": 25,
   "metadata": {},
   "outputs": [
    {
     "data": {
      "text/html": [
       "<div>\n",
       "<style scoped>\n",
       "    .dataframe tbody tr th:only-of-type {\n",
       "        vertical-align: middle;\n",
       "    }\n",
       "\n",
       "    .dataframe tbody tr th {\n",
       "        vertical-align: top;\n",
       "    }\n",
       "\n",
       "    .dataframe thead th {\n",
       "        text-align: right;\n",
       "    }\n",
       "</style>\n",
       "<table border=\"1\" class=\"dataframe\">\n",
       "  <thead>\n",
       "    <tr style=\"text-align: right;\">\n",
       "      <th></th>\n",
       "      <th>Unnamed: 0</th>\n",
       "      <th>Open</th>\n",
       "      <th>High</th>\n",
       "      <th>Low</th>\n",
       "      <th>Close</th>\n",
       "      <th>Volume</th>\n",
       "    </tr>\n",
       "  </thead>\n",
       "  <tbody>\n",
       "    <tr>\n",
       "      <th>0</th>\n",
       "      <td>2024-11-29</td>\n",
       "      <td>234.810</td>\n",
       "      <td>237.8100</td>\n",
       "      <td>233.9700</td>\n",
       "      <td>237.33</td>\n",
       "      <td>28481377</td>\n",
       "    </tr>\n",
       "    <tr>\n",
       "      <th>1</th>\n",
       "      <td>2024-11-27</td>\n",
       "      <td>234.465</td>\n",
       "      <td>235.6900</td>\n",
       "      <td>233.8101</td>\n",
       "      <td>234.93</td>\n",
       "      <td>33498439</td>\n",
       "    </tr>\n",
       "    <tr>\n",
       "      <th>2</th>\n",
       "      <td>2024-11-26</td>\n",
       "      <td>233.330</td>\n",
       "      <td>235.5700</td>\n",
       "      <td>233.3300</td>\n",
       "      <td>235.06</td>\n",
       "      <td>45986189</td>\n",
       "    </tr>\n",
       "    <tr>\n",
       "      <th>3</th>\n",
       "      <td>2024-11-25</td>\n",
       "      <td>231.460</td>\n",
       "      <td>233.2450</td>\n",
       "      <td>229.7400</td>\n",
       "      <td>232.87</td>\n",
       "      <td>90152832</td>\n",
       "    </tr>\n",
       "    <tr>\n",
       "      <th>4</th>\n",
       "      <td>2024-11-22</td>\n",
       "      <td>228.060</td>\n",
       "      <td>230.7199</td>\n",
       "      <td>228.0600</td>\n",
       "      <td>229.87</td>\n",
       "      <td>38168252</td>\n",
       "    </tr>\n",
       "  </tbody>\n",
       "</table>\n",
       "</div>"
      ],
      "text/plain": [
       "   Unnamed: 0     Open      High       Low   Close    Volume\n",
       "0  2024-11-29  234.810  237.8100  233.9700  237.33  28481377\n",
       "1  2024-11-27  234.465  235.6900  233.8101  234.93  33498439\n",
       "2  2024-11-26  233.330  235.5700  233.3300  235.06  45986189\n",
       "3  2024-11-25  231.460  233.2450  229.7400  232.87  90152832\n",
       "4  2024-11-22  228.060  230.7199  228.0600  229.87  38168252"
      ]
     },
     "execution_count": 25,
     "metadata": {},
     "output_type": "execute_result"
    }
   ],
   "source": [
    "#Data Collection\n",
    "#Not sure why I had two separate files, but whoopdidoodie\n",
    "ticker = 'AAPL'\n",
    "df = pd.read_csv(f'{ticker}_Data.csv')\n",
    "df.head()"
   ]
  },
  {
   "cell_type": "code",
   "execution_count": 26,
   "metadata": {},
   "outputs": [
    {
     "data": {
      "text/html": [
       "<div>\n",
       "<style scoped>\n",
       "    .dataframe tbody tr th:only-of-type {\n",
       "        vertical-align: middle;\n",
       "    }\n",
       "\n",
       "    .dataframe tbody tr th {\n",
       "        vertical-align: top;\n",
       "    }\n",
       "\n",
       "    .dataframe thead th {\n",
       "        text-align: right;\n",
       "    }\n",
       "</style>\n",
       "<table border=\"1\" class=\"dataframe\">\n",
       "  <thead>\n",
       "    <tr style=\"text-align: right;\">\n",
       "      <th></th>\n",
       "      <th>Date</th>\n",
       "      <th>Open</th>\n",
       "      <th>High</th>\n",
       "      <th>Low</th>\n",
       "      <th>Close</th>\n",
       "      <th>Volume</th>\n",
       "    </tr>\n",
       "  </thead>\n",
       "  <tbody>\n",
       "    <tr>\n",
       "      <th>0</th>\n",
       "      <td>1999-11-01</td>\n",
       "      <td>0.714286</td>\n",
       "      <td>0.720446</td>\n",
       "      <td>0.690804</td>\n",
       "      <td>0.693036</td>\n",
       "      <td>278577600</td>\n",
       "    </tr>\n",
       "    <tr>\n",
       "      <th>1</th>\n",
       "      <td>1999-11-02</td>\n",
       "      <td>0.696429</td>\n",
       "      <td>0.729375</td>\n",
       "      <td>0.690268</td>\n",
       "      <td>0.716518</td>\n",
       "      <td>399235200</td>\n",
       "    </tr>\n",
       "    <tr>\n",
       "      <th>2</th>\n",
       "      <td>1999-11-03</td>\n",
       "      <td>0.728750</td>\n",
       "      <td>0.743304</td>\n",
       "      <td>0.723214</td>\n",
       "      <td>0.727679</td>\n",
       "      <td>328462400</td>\n",
       "    </tr>\n",
       "    <tr>\n",
       "      <th>3</th>\n",
       "      <td>1999-11-04</td>\n",
       "      <td>0.732679</td>\n",
       "      <td>0.762232</td>\n",
       "      <td>0.719821</td>\n",
       "      <td>0.746607</td>\n",
       "      <td>379086400</td>\n",
       "    </tr>\n",
       "    <tr>\n",
       "      <th>4</th>\n",
       "      <td>1999-11-05</td>\n",
       "      <td>0.755536</td>\n",
       "      <td>0.789018</td>\n",
       "      <td>0.750000</td>\n",
       "      <td>0.788482</td>\n",
       "      <td>416808000</td>\n",
       "    </tr>\n",
       "  </tbody>\n",
       "</table>\n",
       "</div>"
      ],
      "text/plain": [
       "        Date      Open      High       Low     Close     Volume\n",
       "0 1999-11-01  0.714286  0.720446  0.690804  0.693036  278577600\n",
       "1 1999-11-02  0.696429  0.729375  0.690268  0.716518  399235200\n",
       "2 1999-11-03  0.728750  0.743304  0.723214  0.727679  328462400\n",
       "3 1999-11-04  0.732679  0.762232  0.719821  0.746607  379086400\n",
       "4 1999-11-05  0.755536  0.789018  0.750000  0.788482  416808000"
      ]
     },
     "execution_count": 26,
     "metadata": {},
     "output_type": "execute_result"
    }
   ],
   "source": [
    "# Data Cleaning\n",
    "\n",
    "#Reindex so that 0 is earliest\n",
    "\n",
    "df.rename(columns={'Unnamed: 0': 'Date'}, inplace=True)\n",
    "\n",
    "df = df.iloc[::-1].reset_index(drop=True)\n",
    "\n",
    "df['Date'] = pd.to_datetime(df['Date'])\n",
    "\n",
    "\"\"\"I didn't account for stock splits!\n",
    " 4-for-1 basis on August 28, 2020, \n",
    "7-for-1 basis on June 9, 2014, \n",
    "split on a 2-for-1 basis on February 28, 2005, June 21, 2000\n",
    "\"\"\"\n",
    "stock_splits = {dt(2020, 8, 29): 4, \n",
    "                dt(2014,6,9):7,\n",
    "                dt(2005,2,28):2,\n",
    "                dt(2001,6,21):2}\n",
    "for day, factor in stock_splits.items():\n",
    "    df.loc[df['Date'] < day, ['Open', 'High', 'Low', 'Close']] /= factor\n",
    "    df.loc[df['Date'] < day, 'Volume'] *= factor\n",
    "#NOTE: had to move 4-split back by one day in order for it to work; if I made < into <=, it would cause a similar spike somewhere else\n",
    "\n",
    "df.head()"
   ]
  },
  {
   "cell_type": "code",
   "execution_count": 27,
   "metadata": {},
   "outputs": [
    {
     "data": {
      "image/png": "[encoded data removed]",
      "text/plain": [
       "<Figure size 640x480 with 1 Axes>"
      ]
     },
     "metadata": {},
     "output_type": "display_data"
    }
   ],
   "source": [
    "# Data Visualization\n",
    "plt.xlabel('Trading days since Nov \\'99')\n",
    "plt.ylabel('Closing price')\n",
    "days = []\n",
    "closes = []\n",
    "for i in list(df.index):\n",
    "    days.append(i)\n",
    "    closes.append(df.loc[i, 'Close'])\n",
    "    if df.loc[i,\"Close\"]> 400:\n",
    "        print(df.loc[i])\n",
    "        break\n",
    "plt.plot(days, closes)\n",
    "plt.show()\n",
    "#Shows Close price over time\n",
    "#Now to show other things!"
   ]
  },
  {
   "cell_type": "code",
   "execution_count": 28,
   "metadata": {},
   "outputs": [],
   "source": [
    "# Data Preprocessing\n",
    "\n",
    "#Normalization stuff, choose standard normalizer\n",
    "\n",
    "#feature engineering: add some finance things"
   ]
  },
  {
   "cell_type": "code",
   "execution_count": 29,
   "metadata": {},
   "outputs": [],
   "source": [
    "# Data Modeling"
   ]
  },
  {
   "cell_type": "code",
   "execution_count": 30,
   "metadata": {},
   "outputs": [],
   "source": [
    "# Data Analysis"
   ]
  }
 ],
 "metadata": {
  "kernelspec": {
   "display_name": "Python 3",
   "language": "python",
   "name": "python3"
  },
  "language_info": {
   "codemirror_mode": {
    "name": "ipython",
    "version": 3
   },
   "file_extension": ".py",
   "mimetype": "text/x-python",
   "name": "python",
   "nbconvert_exporter": "python",
   "pygments_lexer": "ipython3",
   "version": "3.11.9"
  }
 },
 "nbformat": 4,
 "nbformat_minor": 2
}
